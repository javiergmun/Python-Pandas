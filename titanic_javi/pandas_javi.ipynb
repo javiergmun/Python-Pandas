{
 "cells": [
  {
   "cell_type": "markdown",
   "metadata": {},
   "source": [
    "# Javier Gonzalez \n",
    "#### Titanic con Pandas \n",
    "    "
   ]
  },
  {
   "cell_type": "markdown",
   "metadata": {},
   "source": [
    "Cargar los datos del CSV en dataset."
   ]
  },
  {
   "cell_type": "code",
   "execution_count": 68,
   "metadata": {},
   "outputs": [
    {
     "name": "stdout",
     "output_type": "stream",
     "text": [
      "Index(['pclass', 'survived', 'name', 'sex', 'age', 'sibsp', 'parch', 'ticket',\n",
      "       'fare', 'cabin', 'embarked', 'boat', 'body', 'home.dest'],\n",
      "      dtype='object')\n"
     ]
    }
   ],
   "source": [
    "import pandas as pd\n",
    "#cargar en dataset\n",
    "csv_titanic_entero=pd.read_csv('titanic3.csv')\n",
    "print(csv_titanic_entero.columns)"
   ]
  },
  {
   "cell_type": "markdown",
   "metadata": {},
   "source": [
    "Previsualizar las primeras filas del dataset (5 lineas)."
   ]
  },
  {
   "cell_type": "code",
   "execution_count": 69,
   "metadata": {},
   "outputs": [
    {
     "name": "stdout",
     "output_type": "stream",
     "text": [
      "   pclass  survived                                             name     sex  \\\n",
      "0       1         1                    Allen, Miss. Elisabeth Walton  female   \n",
      "1       1         1                   Allison, Master. Hudson Trevor    male   \n",
      "2       1         0                     Allison, Miss. Helen Loraine  female   \n",
      "3       1         0             Allison, Mr. Hudson Joshua Creighton    male   \n",
      "4       1         0  Allison, Mrs. Hudson J C (Bessie Waldo Daniels)  female   \n",
      "\n",
      "       age  sibsp  parch  ticket      fare    cabin embarked  boat   body  \\\n",
      "0  29.0000      0      0   24160  211.3375       B5        S   2.0    NaN   \n",
      "1   0.9167      1      2  113781  151.5500  C22 C26        S  11.0    NaN   \n",
      "2   2.0000      1      2  113781  151.5500  C22 C26        S   NaN    NaN   \n",
      "3  30.0000      1      2  113781  151.5500  C22 C26        S   NaN  135.0   \n",
      "4  25.0000      1      2  113781  151.5500  C22 C26        S   NaN    NaN   \n",
      "\n",
      "                         home.dest  \n",
      "0                     St Louis, MO  \n",
      "1  Montreal, PQ / Chesterville, ON  \n",
      "2  Montreal, PQ / Chesterville, ON  \n",
      "3  Montreal, PQ / Chesterville, ON  \n",
      "4  Montreal, PQ / Chesterville, ON  \n"
     ]
    }
   ],
   "source": [
    "\n",
    "csv_titanic_5lineas=pd.read_csv(\"titanic3.csv\", nrows=5)\n",
    "print(csv_titanic_5lineas)"
   ]
  },
  {
   "cell_type": "markdown",
   "metadata": {},
   "source": [
    "Media de edad de los pasajeros."
   ]
  },
  {
   "cell_type": "code",
   "execution_count": 70,
   "metadata": {},
   "outputs": [
    {
     "name": "stdout",
     "output_type": "stream",
     "text": [
      "29.8811345124283\n"
     ]
    }
   ],
   "source": [
    "media_edad_pasajeros = csv_titanic_entero['age'].mean()\n",
    "print(media_edad_pasajeros)"
   ]
  },
  {
   "cell_type": "markdown",
   "metadata": {},
   "source": [
    "Histograma representativo de la edad de los pasajeros.\n",
    "##### X: Numero de pasajeros - Y: Edad del pasajero"
   ]
  },
  {
   "cell_type": "code",
   "execution_count": 71,
   "metadata": {},
   "outputs": [
    {
     "name": "stdout",
     "output_type": "stream",
     "text": [
      "AxesSubplot(0.125,0.125;0.775x0.755)\n"
     ]
    },
    {
     "data": {
      "image/png": "[encoded data removed]",
      "text/plain": [
       "<Figure size 432x288 with 1 Axes>"
      ]
     },
     "metadata": {
      "needs_background": "light"
     },
     "output_type": "display_data"
    }
   ],
   "source": [
    "csv_titanic_edades=csv_titanic_entero['age']\n",
    "#He cacharreado con los parametros que le hemos pasados\n",
    "histogram = csv_titanic_edades.plot.hist(x=\"Nº personas\",y=\"edad\",color=\"green\",orientation=\"horizontal\")\n",
    "print(histogram)"
   ]
  },
  {
   "cell_type": "markdown",
   "metadata": {},
   "source": [
    "Calcula el número de pasajeros con billetes de primera, segunda o tercera clase."
   ]
  },
  {
   "cell_type": "code",
   "execution_count": 72,
   "metadata": {},
   "outputs": [
    {
     "name": "stdout",
     "output_type": "stream",
     "text": [
      "Pasajeros 1ªClase: 323.\n",
      "Pasajeros 2ªClase: 277.\n",
      "Pasajeros 3ªClase: 709.\n",
      "Pasajeros totales: 1309.\n"
     ]
    }
   ],
   "source": [
    "#.loc accede a columnas o filas con ese nombre y que sean iguales a algo\n",
    "pasajeros_clase1 = csv_titanic_entero.loc[csv_titanic_entero['pclass'] == 1].index.size\n",
    "pasajeros_clase2 = csv_titanic_entero.loc[csv_titanic_entero['pclass'] == 2].index.size\n",
    "pasajeros_clase3 = csv_titanic_entero.loc[csv_titanic_entero['pclass'] == 3].index.size\n",
    "#sin .loc\n",
    "pasajeros_totales=csv_titanic_entero['ticket'].index.size\n",
    "\n",
    "print(f\"\"\"Pasajeros 1ªClase: {pasajeros_clase1}.\n",
    "Pasajeros 2ªClase: {pasajeros_clase2}.\n",
    "Pasajeros 3ªClase: {pasajeros_clase3}.\"\"\")\n",
    "print(f\"Pasajeros totales: {pasajeros_totales}.\")\n"
   ]
  },
  {
   "cell_type": "markdown",
   "metadata": {},
   "source": [
    "Realiza una tabla pivot con la tasa de supervivencia en función del tipo de billete."
   ]
  },
  {
   "cell_type": "code",
   "execution_count": 73,
   "metadata": {},
   "outputs": [
    {
     "data": {
      "text/html": [
       "<div>\n",
       "<style scoped>\n",
       "    .dataframe tbody tr th:only-of-type {\n",
       "        vertical-align: middle;\n",
       "    }\n",
       "\n",
       "    .dataframe tbody tr th {\n",
       "        vertical-align: top;\n",
       "    }\n",
       "\n",
       "    .dataframe thead th {\n",
       "        text-align: right;\n",
       "    }\n",
       "</style>\n",
       "<table border=\"1\" class=\"dataframe\">\n",
       "  <thead>\n",
       "    <tr style=\"text-align: right;\">\n",
       "      <th></th>\n",
       "      <th>survived</th>\n",
       "    </tr>\n",
       "    <tr>\n",
       "      <th>pclass</th>\n",
       "      <th></th>\n",
       "    </tr>\n",
       "  </thead>\n",
       "  <tbody>\n",
       "    <tr>\n",
       "      <th>1</th>\n",
       "      <td>0.619195</td>\n",
       "    </tr>\n",
       "    <tr>\n",
       "      <th>2</th>\n",
       "      <td>0.429603</td>\n",
       "    </tr>\n",
       "    <tr>\n",
       "      <th>3</th>\n",
       "      <td>0.255289</td>\n",
       "    </tr>\n",
       "  </tbody>\n",
       "</table>\n",
       "</div>"
      ],
      "text/plain": [
       "        survived\n",
       "pclass          \n",
       "1       0.619195\n",
       "2       0.429603\n",
       "3       0.255289"
      ]
     },
     "execution_count": 73,
     "metadata": {},
     "output_type": "execute_result"
    }
   ],
   "source": [
    "csv_titanic_entero.pivot_table('survived','pclass')"
   ]
  }
 ],
 "metadata": {
  "interpreter": {
   "hash": "e5a6201a4da71d1999253b48ff383a788de6d6cf16feac6ce48db78b24fed60d"
  },
  "kernelspec": {
   "display_name": "Python 3.10.2 64-bit",
   "language": "python",
   "name": "python3"
  },
  "language_info": {
   "codemirror_mode": {
    "name": "ipython",
    "version": 3
   },
   "file_extension": ".py",
   "mimetype": "text/x-python",
   "name": "python",
   "nbconvert_exporter": "python",
   "pygments_lexer": "ipython3",
   "version": "3.10.2"
  },
  "orig_nbformat": 4
 },
 "nbformat": 4,
 "nbformat_minor": 2
}
